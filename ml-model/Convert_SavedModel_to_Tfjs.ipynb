{
  "nbformat": 4,
  "nbformat_minor": 0,
  "metadata": {
    "colab": {
      "name": "Convert-SavedModel-to-Tfjs.ipynb",
      "provenance": []
    },
    "kernelspec": {
      "name": "python3",
      "display_name": "Python 3"
    },
    "language_info": {
      "name": "python"
    }
  },
  "cells": [
    {
      "cell_type": "markdown",
      "source": [
        "<h1>Convert Saved Model</h1>\n",
        "\n",
        "Reference :\n",
        "https://github.com/tensorflow/tfjs/tree/master/tfjs-converter"
      ],
      "metadata": {
        "id": "bi-ZCwuiF4Mq"
      }
    },
    {
      "cell_type": "code",
      "execution_count": null,
      "metadata": {
        "id": "9pPyK5IFFwIq"
      },
      "outputs": [],
      "source": [
        "# Connect to Google Drive\n",
        "\n",
        "from google.colab import drive\n",
        "drive.mount('/content/drive')"
      ]
    },
    {
      "cell_type": "code",
      "source": [
        "#Copy Paste Folder All Model to Drive\n",
        "\n",
        "!cp -av '/content/models' '/gdrive/My Drive'\n",
        "!cp -av '/content/fine_tuned_model' '/gdrive/My Drive'"
      ],
      "metadata": {
        "id": "NPCapsToG2sE"
      },
      "execution_count": null,
      "outputs": []
    },
    {
      "cell_type": "code",
      "source": [
        "#Import tfjs\n",
        "\n",
        "!pip install tensorflowjs"
      ],
      "metadata": {
        "id": "S2P8Ij2jGlLs"
      },
      "execution_count": null,
      "outputs": []
    },
    {
      "cell_type": "code",
      "source": [
        "#Info about module tfjs\n",
        "\n",
        "!tensorflowjs_converter --help"
      ],
      "metadata": {
        "id": "q-VPKmswIGsm"
      },
      "execution_count": null,
      "outputs": []
    },
    {
      "cell_type": "code",
      "source": [
        "#Start to Convert\n",
        "\n",
        "!tensorflowjs_converter \\\n",
        "    --input_format=tf_saved_model \\\n",
        "    --output_format=tfjs_graph_model \\\n",
        "    --signature_name=serving_default \\\n",
        "    --saved_model_tags=serve \\\n",
        "    /content/drive/MyDrive/fine_tuned_model/saved_model \\ #folder saved model path\n",
        "    /content/drive/MyDrive # folder tfjs going to save"
      ],
      "metadata": {
        "id": "uL7gJJypHRRp"
      },
      "execution_count": null,
      "outputs": []
    }
  ]
}